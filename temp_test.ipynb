{
 "cells": [
  {
   "cell_type": "code",
   "execution_count": 1,
   "metadata": {},
   "outputs": [],
   "source": [
    "import os\n",
    "import torch\n",
    "import torch.nn as nn\n",
    "\n",
    "from architectures.vit import ViT"
   ]
  },
  {
   "cell_type": "code",
   "execution_count": 18,
   "metadata": {},
   "outputs": [],
   "source": [
    "vit = ViT(\n",
    "    image_size = 224,\n",
    "    patch_size = 16,\n",
    "    num_classes = 101, \n",
    "    dim = 512,\n",
    "    depth = 2,\n",
    "    heads = 8,\n",
    "    mlp_dim_ratio = 4,\n",
    "    channels = 3,\n",
    "    dim_head = 64,\n",
    "    dropout = 0.,\n",
    "    pool = 'cls'\n",
    ")"
   ]
  },
  {
   "cell_type": "code",
   "execution_count": 19,
   "metadata": {},
   "outputs": [],
   "source": [
    "# food101_dataloader.py\n",
    "\n",
    "import torch\n",
    "from torch.utils.data import Dataset, DataLoader\n",
    "from torchvision import transforms\n",
    "from datasets import load_dataset\n",
    "from PIL import Image\n"
   ]
  },
  {
   "cell_type": "code",
   "execution_count": 20,
   "metadata": {},
   "outputs": [],
   "source": [
    "\n",
    "# Define class label mapping\n",
    "class_label_mapping = {\n",
    "    \"apple_pie\": 0, \"baby_back_ribs\": 1, \"baklava\": 2, \"beef_carpaccio\": 3,\n",
    "    \"beef_tartare\": 4, \"beet_salad\": 5, \"beignets\": 6, \"bibimbap\": 7,\n",
    "    \"bread_pudding\": 8, \"breakfast_burrito\": 9, \"bruschetta\": 10,\n",
    "    \"caesar_salad\": 11, \"cannoli\": 12, \"caprese_salad\": 13, \"carrot_cake\": 14,\n",
    "    \"ceviche\": 15, \"cheesecake\": 16, \"cheese_plate\": 17, \"chicken_curry\": 18,\n",
    "    \"chicken_quesadilla\": 19, \"chicken_wings\": 20, \"chocolate_cake\": 21,\n",
    "    \"chocolate_mousse\": 22, \"churros\": 23, \"clam_chowder\": 24,\n",
    "    \"club_sandwich\": 25, \"crab_cakes\": 26, \"creme_brulee\": 27,\n",
    "    \"croque_madame\": 28, \"cup_cakes\": 29, \"deviled_eggs\": 30, \"donuts\": 31,\n",
    "    \"dumplings\": 32, \"edamame\": 33, \"eggs_benedict\": 34, \"escargots\": 35,\n",
    "    \"falafel\": 36, \"filet_mignon\": 37, \"fish_and_chips\": 38, \"foie_gras\": 39,\n",
    "    \"french_fries\": 40, \"french_onion_soup\": 41, \"french_toast\": 42,\n",
    "    \"fried_calamari\": 43, \"fried_rice\": 44, \"frozen_yogurt\": 45,\n",
    "    \"garlic_bread\": 46, \"gnocchi\": 47, \"greek_salad\": 48,\n",
    "    \"grilled_cheese_sandwich\": 49, \"grilled_salmon\": 50, \"guacamole\": 51,\n",
    "    \"gyoza\": 52, \"hamburger\": 53, \"hot_and_sour_soup\": 54, \"hot_dog\": 55,\n",
    "    \"huevos_rancheros\": 56, \"hummus\": 57, \"ice_cream\": 58, \"lasagna\": 59,\n",
    "    \"lobster_bisque\": 60, \"lobster_roll_sandwich\": 61, \"macaroni_and_cheese\": 62,\n",
    "    \"macarons\": 63, \"miso_soup\": 64, \"mussels\": 65, \"nachos\": 66,\n",
    "    \"omelette\": 67, \"onion_rings\": 68, \"oysters\": 69, \"pad_thai\": 70,\n",
    "    \"paella\": 71, \"pancakes\": 72, \"panna_cotta\": 73, \"peking_duck\": 74,\n",
    "    \"pho\": 75, \"pizza\": 76, \"pork_chop\": 77, \"poutine\": 78, \"prime_rib\": 79,\n",
    "    \"pulled_pork_sandwich\": 80, \"ramen\": 81, \"ravioli\": 82, \"red_velvet_cake\": 83,\n",
    "    \"risotto\": 84, \"samosa\": 85, \"sashimi\": 86, \"scallops\": 87,\n",
    "    \"seaweed_salad\": 88, \"shrimp_and_grits\": 89, \"spaghetti_bolognese\": 90,\n",
    "    \"spaghetti_carbonara\": 91, \"spring_rolls\": 92, \"steak\": 93,\n",
    "    \"strawberry_shortcake\": 94, \"sushi\": 95, \"tacos\": 96, \"takoyaki\": 97,\n",
    "    \"tiramisu\": 98, \"tuna_tartare\": 99, \"waffles\": 100\n",
    "}\n"
   ]
  },
  {
   "cell_type": "code",
   "execution_count": 21,
   "metadata": {},
   "outputs": [],
   "source": [
    "\n",
    "# Define the Food101Dataset class\n",
    "class Food101Dataset(Dataset):\n",
    "    \"\"\"Custom Dataset for Food-101 images and labels.\"\"\"\n",
    "    def __init__(self, dataset, class_label_mapping, transform=None):\n",
    "        self.dataset = dataset\n",
    "        self.class_label_mapping = class_label_mapping\n",
    "        self.transform = transform\n",
    "    \n",
    "    def __len__(self):\n",
    "        return len(self.dataset)\n",
    "    \n",
    "    def __getitem__(self, idx):\n",
    "        item = self.dataset[idx]\n",
    "        image = item['image']\n",
    "        label = item['label']\n",
    "        \n",
    "        # Apply the transform if provided\n",
    "        if self.transform:\n",
    "            image = self.transform(image)\n",
    "        \n",
    "        # Map the label to the correct index\n",
    "        label_name = list(self.class_label_mapping.keys())[label]\n",
    "        label_idx = self.class_label_mapping[label_name]\n",
    "        \n",
    "        return image, label_idx\n"
   ]
  },
  {
   "cell_type": "code",
   "execution_count": 22,
   "metadata": {},
   "outputs": [],
   "source": [
    "def get_food101_dataloader(batch_size=32, num_workers=0):\n",
    "    \"\"\"\n",
    "    Load the Food101 dataset and return the train and validation dataloaders.\n",
    "\n",
    "    Args:\n",
    "        batch_size (int): Number of samples per batch.\n",
    "        num_workers (int): Number of worker processes for data loading.\n",
    "\n",
    "    Returns:\n",
    "        train_loader, val_loader (DataLoader, DataLoader): DataLoaders for training and validation sets.\n",
    "    \"\"\"\n",
    "\n",
    "    # Load the dataset\n",
    "    ds = load_dataset(\"ethz/food101\")\n",
    "    train_data = ds[\"train\"]\n",
    "    validation_data = ds[\"validation\"]\n",
    "\n",
    "    # Define transformations\n",
    "    transform = transforms.Compose([\n",
    "        transforms.Resize((224, 224)),  # Resize to 224x224, typical size for models like ResNet\n",
    "        transforms.ToTensor(),          # Convert PIL Image to Tensor\n",
    "        transforms.Normalize(mean=[0.485, 0.456, 0.406], std=[0.229, 0.224, 0.225])  # Normalize with ImageNet stats\n",
    "    ])\n",
    "\n",
    "    # Create the custom Dataset\n",
    "    train_dataset = Food101Dataset(train_data, class_label_mapping, transform)\n",
    "    validation_dataset = Food101Dataset(validation_data, class_label_mapping, transform)\n",
    "\n",
    "    # Create DataLoaders\n",
    "    train_loader = DataLoader(train_dataset, batch_size=batch_size, shuffle=True, num_workers=num_workers)\n",
    "    val_loader = DataLoader(validation_dataset, batch_size=batch_size, shuffle=False, num_workers=num_workers)\n",
    "\n",
    "    return train_loader, val_loader"
   ]
  },
  {
   "cell_type": "code",
   "execution_count": 23,
   "metadata": {},
   "outputs": [],
   "source": [
    "train_loader, val_loader = get_food101_dataloader(batch_size = 1)"
   ]
  },
  {
   "cell_type": "code",
   "execution_count": 24,
   "metadata": {},
   "outputs": [],
   "source": [
    "image, label = next(iter(train_loader))"
   ]
  },
  {
   "cell_type": "code",
   "execution_count": 14,
   "metadata": {},
   "outputs": [],
   "source": [
    "# inference with the vit\n",
    "\n",
    "with torch.no_grad():\n",
    "    outputs = vit(image)\n",
    "    cls_token = outputs['cls_token']\n",
    "    feature_map = outputs['feature_map']\n",
    "    classification_head = outputs['classification_head']"
   ]
  },
  {
   "cell_type": "code",
   "execution_count": null,
   "metadata": {},
   "outputs": [],
   "source": []
  },
  {
   "cell_type": "code",
   "execution_count": 17,
   "metadata": {},
   "outputs": [
    {
     "data": {
      "text/plain": [
       "torch.Size([1, 100])"
      ]
     },
     "execution_count": 17,
     "metadata": {},
     "output_type": "execute_result"
    }
   ],
   "source": [
    "classification_head.shape"
   ]
  },
  {
   "cell_type": "code",
   "execution_count": null,
   "metadata": {},
   "outputs": [],
   "source": []
  }
 ],
 "metadata": {
  "kernelspec": {
   "display_name": "vit",
   "language": "python",
   "name": "python3"
  },
  "language_info": {
   "codemirror_mode": {
    "name": "ipython",
    "version": 3
   },
   "file_extension": ".py",
   "mimetype": "text/x-python",
   "name": "python",
   "nbconvert_exporter": "python",
   "pygments_lexer": "ipython3",
   "version": "3.10.14"
  }
 },
 "nbformat": 4,
 "nbformat_minor": 2
}
