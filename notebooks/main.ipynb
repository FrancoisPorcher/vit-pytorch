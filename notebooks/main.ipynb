{
 "cells": [
  {
   "cell_type": "code",
   "execution_count": 13,
   "metadata": {},
   "outputs": [
    {
     "name": "stdout",
     "output_type": "stream",
     "text": [
      "The autoreload extension is already loaded. To reload it, use:\n",
      "  %reload_ext autoreload\n",
      "/Users/francoisporcher/Downloads/vit-pytorch\n"
     ]
    }
   ],
   "source": [
    "import os\n",
    "# Load the autoreload extension\n",
    "%load_ext autoreload\n",
    "\n",
    "# Set autoreload mode to automatically reload modules\n",
    "%autoreload 2\n",
    "\n",
    "# Check the current working directory\n",
    "print(os.getcwd())\n",
    "\n",
    "# Change to the root directory of your project if needed\n",
    "if os.path.basename(os.getcwd()) != 'vit-pytorch':\n",
    "    os.chdir('..')  # Adjust according to the directory structure\n",
    "import torch\n",
    "import torch.nn as nn\n",
    "from architectures.vit import FFN, Attention, Transformer, ViT  # Ensure that this import path is correct\n"
   ]
  },
  {
   "cell_type": "code",
   "execution_count": 19,
   "metadata": {},
   "outputs": [
    {
     "name": "stdout",
     "output_type": "stream",
     "text": [
      "torch.Size([4, 3, 224, 224])\n"
     ]
    }
   ],
   "source": [
    "\n",
    "# Define a dummy tensor with a batch dimension\n",
    "batch_size = 4\n",
    "height = 224\n",
    "width = 224\n",
    "channels = 3\n",
    "\n",
    "dummy_img = torch.randn(batch_size, channels, height, width)\n",
    "print(dummy_img.shape)\n",
    "\n",
    "# ViT configuration\n",
    "depth = 2\n",
    "patch_size = 16\n",
    "num_classes = 1000\n",
    "dim = 512\n",
    "heads = 8\n",
    "dim_head = 64\n",
    "mlp_dim = int(4 * heads * dim_head)\n",
    "\n",
    "# Instantiate the ViT model\n",
    "vit = ViT(\n",
    "    image_size=height,\n",
    "    patch_size=patch_size,\n",
    "    num_classes=num_classes,\n",
    "    dim=dim,\n",
    "    depth=depth,\n",
    "    heads=heads,\n",
    "    mlp_dim=mlp_dim,\n",
    "    channels=channels,\n",
    "    dim_head=dim_head\n",
    ")\n",
    "\n",
    "output = vit(dummy_img)\n",
    "\n",
    "\n"
   ]
  },
  {
   "cell_type": "code",
   "execution_count": 23,
   "metadata": {},
   "outputs": [
    {
     "data": {
      "text/plain": [
       "torch.Size([4, 512])"
      ]
     },
     "execution_count": 23,
     "metadata": {},
     "output_type": "execute_result"
    }
   ],
   "source": [
    "output['cls_token'].shape"
   ]
  },
  {
   "cell_type": "code",
   "execution_count": 24,
   "metadata": {},
   "outputs": [
    {
     "data": {
      "text/plain": [
       "torch.Size([4, 1000])"
      ]
     },
     "execution_count": 24,
     "metadata": {},
     "output_type": "execute_result"
    }
   ],
   "source": [
    "output['classification_head'].shape"
   ]
  },
  {
   "cell_type": "code",
   "execution_count": 25,
   "metadata": {},
   "outputs": [
    {
     "data": {
      "text/plain": [
       "torch.Size([4, 196, 512])"
      ]
     },
     "execution_count": 25,
     "metadata": {},
     "output_type": "execute_result"
    }
   ],
   "source": [
    "output['feature_map'].shape"
   ]
  },
  {
   "cell_type": "code",
   "execution_count": null,
   "metadata": {},
   "outputs": [],
   "source": []
  }
 ],
 "metadata": {
  "kernelspec": {
   "display_name": "vit",
   "language": "python",
   "name": "python3"
  },
  "language_info": {
   "codemirror_mode": {
    "name": "ipython",
    "version": 3
   },
   "file_extension": ".py",
   "mimetype": "text/x-python",
   "name": "python",
   "nbconvert_exporter": "python",
   "pygments_lexer": "ipython3",
   "version": "3.10.14"
  }
 },
 "nbformat": 4,
 "nbformat_minor": 2
}
