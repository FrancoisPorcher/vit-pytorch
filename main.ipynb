{
 "cells": [
  {
   "cell_type": "code",
   "execution_count": 4,
   "metadata": {},
   "outputs": [
    {
     "name": "stdout",
     "output_type": "stream",
     "text": [
      "dict_keys(['epoch', 'model_state_dict', 'optimizer_state_dict', 'val_acc'])\n"
     ]
    }
   ],
   "source": [
    "import argparse\n",
    "from src.models.vit import ViT\n",
    "from src.training.train import Trainer\n",
    "from src.data.data_loader import get_cifar100_dataloaders\n",
    "\n",
    "checkpoint = torch.load('checkpoints/checkpoint_epoch_1_acc_29.78.pth')\n",
    "print(checkpoint.keys())\n",
    "train_loader, val_loader, test_loader = get_cifar100_dataloaders(batch_size=4)"
   ]
  },
  {
   "cell_type": "code",
   "execution_count": 13,
   "metadata": {},
   "outputs": [],
   "source": [
    "# Initialize the model (make sure to match the architecture used during training)\n",
    "model = ViT(\n",
    "    image_size=32,  # CIFAR-100 images are 32x32\n",
    "    patch_size=4,\n",
    "    num_classes=100,  # CIFAR-100 has 100 classes\n",
    "    dim=768,\n",
    "    depth=12,\n",
    "    heads=8,\n",
    "    mlp_dim=3072\n",
    ")\n",
    "\n",
    "# Load the state dictionary into the model\n",
    "model.load_state_dict(checkpoint['model_state_dict'])\n",
    "\n",
    "sample_image, label = next(iter(test_loader))\n",
    "\n",
    "\n",
    "\n",
    "# inference\n",
    "model.eval()\n",
    "with torch.no_grad():\n",
    "    logits = model(sample_image)\n",
    "    preds = torch.argmax(logits, dim=-1)"
   ]
  },
  {
   "cell_type": "code",
   "execution_count": 19,
   "metadata": {},
   "outputs": [
    {
     "data": {
      "text/plain": [
       "torch.Size([4, 100])"
      ]
     },
     "execution_count": 19,
     "metadata": {},
     "output_type": "execute_result"
    }
   ],
   "source": [
    "logits.shape"
   ]
  },
  {
   "cell_type": "code",
   "execution_count": 16,
   "metadata": {},
   "outputs": [
    {
     "data": {
      "text/plain": [
       "tensor([30, 33,  4,  4])"
      ]
     },
     "execution_count": 16,
     "metadata": {},
     "output_type": "execute_result"
    }
   ],
   "source": [
    "preds"
   ]
  },
  {
   "cell_type": "code",
   "execution_count": 17,
   "metadata": {},
   "outputs": [
    {
     "data": {
      "text/plain": [
       "tensor([49, 33, 72, 51])"
      ]
     },
     "execution_count": 17,
     "metadata": {},
     "output_type": "execute_result"
    }
   ],
   "source": [
    "label"
   ]
  },
  {
   "cell_type": "code",
   "execution_count": null,
   "metadata": {},
   "outputs": [],
   "source": [
    "logits"
   ]
  },
  {
   "cell_type": "code",
   "execution_count": null,
   "metadata": {},
   "outputs": [],
   "source": []
  }
 ],
 "metadata": {
  "kernelspec": {
   "display_name": "vit",
   "language": "python",
   "name": "python3"
  },
  "language_info": {
   "codemirror_mode": {
    "name": "ipython",
    "version": 3
   },
   "file_extension": ".py",
   "mimetype": "text/x-python",
   "name": "python",
   "nbconvert_exporter": "python",
   "pygments_lexer": "ipython3",
   "version": "3.9.19"
  }
 },
 "nbformat": 4,
 "nbformat_minor": 2
}
